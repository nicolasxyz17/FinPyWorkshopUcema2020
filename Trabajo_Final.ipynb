{
 "cells": [
  {
   "cell_type": "markdown",
   "metadata": {},
   "source": [
    "### Library"
   ]
  },
  {
   "cell_type": "code",
   "execution_count": 1,
   "metadata": {
    "ExecuteTime": {
     "end_time": "2020-09-07T21:59:38.542899Z",
     "start_time": "2020-09-07T21:59:36.504426Z"
    }
   },
   "outputs": [],
   "source": [
    "import matplotlib.pyplot as plt\n",
    "import numpy as np\n",
    "import pandas as pd\n",
    "import seaborn as sns\n",
    "import yfinance as yf\n",
    "\n",
    "from linearmodels.asset_pricing import TradedFactorModel\n",
    "from pypfopt import EfficientFrontier\n",
    "\n",
    "import sys\n",
    "sys.path.append('..')\n",
    "from   Tools.Codigo import *"
   ]
  },
  {
   "cell_type": "markdown",
   "metadata": {},
   "source": [
    "### Precios\n",
    "- La base SP_yahoo.xlsx , contiene las 25 empresas con mayor weight en el índice Sp500"
   ]
  },
  {
   "cell_type": "code",
   "execution_count": 2,
   "metadata": {
    "ExecuteTime": {
     "end_time": "2020-09-07T21:59:40.036224Z",
     "start_time": "2020-09-07T21:59:38.544647Z"
    }
   },
   "outputs": [],
   "source": [
    "data = pd.read_excel('SPY_yahoo.xlsx').set_index('Date')"
   ]
  },
  {
   "cell_type": "markdown",
   "metadata": {},
   "source": [
    "#### Verifico Indice"
   ]
  },
  {
   "cell_type": "code",
   "execution_count": 3,
   "metadata": {
    "ExecuteTime": {
     "end_time": "2020-09-07T21:59:40.043505Z",
     "start_time": "2020-09-07T21:59:40.038390Z"
    }
   },
   "outputs": [
    {
     "data": {
      "text/plain": [
       "DatetimeIndex(['1990-01-02', '1990-01-03', '1990-01-04', '1990-01-05',\n",
       "               '1990-01-08', '1990-01-09', '1990-01-10', '1990-01-11',\n",
       "               '1990-01-12', '1990-01-15',\n",
       "               ...\n",
       "               '2020-08-19', '2020-08-20', '2020-08-21', '2020-08-24',\n",
       "               '2020-08-25', '2020-08-26', '2020-08-27', '2020-08-28',\n",
       "               '2020-08-31', '2020-09-01'],\n",
       "              dtype='datetime64[ns]', name='Date', length=7730, freq=None)"
      ]
     },
     "execution_count": 3,
     "metadata": {},
     "output_type": "execute_result"
    }
   ],
   "source": [
    "data.index"
   ]
  },
  {
   "cell_type": "markdown",
   "metadata": {},
   "source": [
    "### Inputs\n",
    "- Construir un resample con datos mensuales"
   ]
  },
  {
   "cell_type": "code",
   "execution_count": 4,
   "metadata": {
    "ExecuteTime": {
     "end_time": "2020-09-07T21:59:40.060406Z",
     "start_time": "2020-09-07T21:59:40.045549Z"
    }
   },
   "outputs": [],
   "source": [
    "data_ = data.resample('M').mean()"
   ]
  },
  {
   "cell_type": "markdown",
   "metadata": {},
   "source": [
    "#### Fechas\n",
    "- Defino un punto 't' como punto de partida"
   ]
  },
  {
   "cell_type": "code",
   "execution_count": 5,
   "metadata": {
    "ExecuteTime": {
     "end_time": "2020-09-07T21:59:40.063789Z",
     "start_time": "2020-09-07T21:59:40.061877Z"
    }
   },
   "outputs": [],
   "source": [
    "t = '1999-01-05'"
   ]
  },
  {
   "cell_type": "markdown",
   "metadata": {},
   "source": [
    "### Construir Factor\n",
    "- from Tools.Codigo, utilizo la función momentum\n",
    "- El factor se construye en base a la siguiente formula:\n",
    "\\[ WML = 1/2(Small High + Big High) - 1/2(Small Low + Big Low) \\]\n",
    "- Verificar el factor con un gráfico"
   ]
  },
  {
   "cell_type": "code",
   "execution_count": 6,
   "metadata": {
    "ExecuteTime": {
     "end_time": "2020-09-07T21:59:41.714116Z",
     "start_time": "2020-09-07T21:59:40.065741Z"
    }
   },
   "outputs": [
    {
     "data": {
      "text/plain": [
       "<matplotlib.axes._subplots.AxesSubplot at 0x7fa5e6ea4a30>"
      ]
     },
     "execution_count": 6,
     "metadata": {},
     "output_type": "execute_result"
    },
    {
     "data": {
      "image/png": "[encoded data removed]",
      "text/plain": [
       "<Figure size 432x288 with 1 Axes>"
      ]
     },
     "metadata": {
      "needs_background": "light"
     },
     "output_type": "display_data"
    }
   ],
   "source": [
    "WML = momentum(data_,period=t,frequency=12)\n",
    "((WML+1).cumprod()-1).plot()"
   ]
  },
  {
   "cell_type": "markdown",
   "metadata": {},
   "source": [
    "### Benchmark\n",
    "- Utilizo el SP500 como factor MktRF"
   ]
  },
  {
   "cell_type": "code",
   "execution_count": 7,
   "metadata": {
    "ExecuteTime": {
     "end_time": "2020-09-07T21:59:42.690062Z",
     "start_time": "2020-09-07T21:59:41.715783Z"
    }
   },
   "outputs": [
    {
     "name": "stdout",
     "output_type": "stream",
     "text": [
      "[*********************100%***********************]  1 of 1 completed\n"
     ]
    }
   ],
   "source": [
    "MktRF = yf.download('SPY',start=t)['Adj Close'].to_frame('MktRF')\n",
    "MktRF = MktRF.resample('M').mean()"
   ]
  },
  {
   "cell_type": "markdown",
   "metadata": {},
   "source": [
    "### Window\n",
    "- Defino una fecha start y end"
   ]
  },
  {
   "cell_type": "code",
   "execution_count": 8,
   "metadata": {
    "ExecuteTime": {
     "end_time": "2020-09-07T21:59:42.694594Z",
     "start_time": "2020-09-07T21:59:42.692794Z"
    },
    "code_folding": []
   },
   "outputs": [],
   "source": [
    "start = '2000-01'\n",
    "end = '2020-08'"
   ]
  },
  {
   "cell_type": "markdown",
   "metadata": {},
   "source": [
    "### Retornos Logaritmicos\n",
    "- Filtro la base de precios a partir de 't'\n",
    "- Filtro la base de precios y MktRF con start y end"
   ]
  },
  {
   "cell_type": "code",
   "execution_count": 9,
   "metadata": {
    "ExecuteTime": {
     "end_time": "2020-09-07T21:59:42.709628Z",
     "start_time": "2020-09-07T21:59:42.696913Z"
    },
    "code_folding": []
   },
   "outputs": [],
   "source": [
    "sample = np.log((data_/data_.shift(1)))[t:]\n",
    "sample = sample[start:end].dropna(axis=1)\n",
    "factor0 = np.log((MktRF/MktRF.shift(1)))[start:end]\n",
    "factor1 = WML[start:end]"
   ]
  },
  {
   "cell_type": "markdown",
   "metadata": {},
   "source": [
    "### Portfolio Single Period"
   ]
  },
  {
   "cell_type": "markdown",
   "metadata": {},
   "source": [
    "#### Portafolio EW\n",
    "- from Tools.Codigo, aplico un función alternativa para calcular los retornos históricos medios.\n",
    "- A diferencia de métrica de retornos históricos (estimador insesgado pero ineficiente \"en términos de asignación de varianza\"), se puede mejorar el estimador con el método James-Stein Shrinkage.\n",
    "\n",
    "- En donde: \\[\\hat{\\gamma}_{JS} = \\left(1-\\frac{(m-3)\\sigma^2}{||y||^2}\\right)y\\]\n",
    "\n",
    "- Si $m>3$, $MSE_{James-Stein}$ < $MSE_{MaximumLikehood}$"
   ]
  },
  {
   "cell_type": "markdown",
   "metadata": {},
   "source": [
    "#### Portfolio EW - Parametros"
   ]
  },
  {
   "cell_type": "code",
   "execution_count": 10,
   "metadata": {
    "ExecuteTime": {
     "end_time": "2020-09-07T21:59:42.729366Z",
     "start_time": "2020-09-07T21:59:42.712520Z"
    },
    "code_folding": []
   },
   "outputs": [
    {
     "name": "stdout",
     "output_type": "stream",
     "text": [
      "Portfolio EW:\n",
      "Retorno     : 0.08234\n",
      "Volatilidad : 0.12376\n"
     ]
    }
   ],
   "source": [
    "mu = JS_shrinkage(sample,frequency=12)\n",
    "cov = sample.cov()*12\n",
    "n = sample.shape[1]\n",
    "w_ew = np.repeat(1/n, n)\n",
    "EWPort = sample.mul(w_ew,axis=1).sum(axis=1)\n",
    "EWRet = np.sum(mu*w_ew)\n",
    "EWVol = np.sqrt(np.dot(w_ew.T,np.dot(cov,w_ew)))\n",
    "print('Portfolio EW:')\n",
    "print('Retorno     :',np.round(EWRet,5))\n",
    "print('Volatilidad :',np.round(EWVol,5))"
   ]
  },
  {
   "cell_type": "markdown",
   "metadata": {},
   "source": [
    "### Modelo Factorial Fama-MacBeth\n",
    "\n",
    "- Método similar a Modelo CAPM. El modelo Fama-MacBeth estima las $\\alpha_i$ y $\\beta_i$ para cualquier $Factor_i$ de riesgo que se espera que determine los precios de los activos"
   ]
  },
  {
   "cell_type": "code",
   "execution_count": 11,
   "metadata": {
    "ExecuteTime": {
     "end_time": "2020-09-07T21:59:42.754985Z",
     "start_time": "2020-09-07T21:59:42.731618Z"
    },
    "code_folding": []
   },
   "outputs": [
    {
     "name": "stdout",
     "output_type": "stream",
     "text": [
      "                      TradedFactorModel Estimation Summary                      \n",
      "================================================================================\n",
      "No. Test Portfolios:                 21   R-squared:                      0.3406\n",
      "No. Factors:                          2   J-statistic:                    37.911\n",
      "No. Observations:                   248   P-value                         0.0132\n",
      "Date:                  Mon, Sep 07 2020   Distribution:                 chi2(21)\n",
      "Time:                          18:59:42                                         \n",
      "Cov. Estimator:                  robust                                         \n",
      "                                                                                \n",
      "                            Risk Premia Estimates                             \n",
      "==============================================================================\n",
      "            Parameter  Std. Err.     T-stat    P-value    Lower CI    Upper CI\n",
      "------------------------------------------------------------------------------\n",
      "MktRF          0.0050     0.0025     2.0102     0.0444      0.0001      0.0099\n",
      "WML            0.0009     0.0004     2.1909     0.0285   8.979e-05      0.0016\n",
      "==============================================================================\n",
      "\n",
      "Covariance estimator:\n",
      "HeteroskedasticCovariance\n",
      "See full_summary for complete results\n"
     ]
    }
   ],
   "source": [
    "# Nombre de columnas\n",
    "tickers = list(sample.columns)\n",
    "# Universo de inversion\n",
    "assets = sample\n",
    "# Factores\n",
    "factors = pd.concat([factor0,factor1],axis=1).dropna()\n",
    "# Modelo\n",
    "mod = TradedFactorModel(assets, factors)\n",
    "# Resultados\n",
    "res = mod.fit()\n",
    "print(res)"
   ]
  },
  {
   "cell_type": "markdown",
   "metadata": {},
   "source": [
    "#### Parametros del Modelo"
   ]
  },
  {
   "cell_type": "code",
   "execution_count": 12,
   "metadata": {
    "ExecuteTime": {
     "end_time": "2020-09-07T21:59:42.762062Z",
     "start_time": "2020-09-07T21:59:42.756628Z"
    },
    "code_folding": []
   },
   "outputs": [
    {
     "name": "stdout",
     "output_type": "stream",
     "text": [
      "          alpha     MktRF       WML\n",
      "MSFT   0.001862  0.978717  0.762575\n",
      "AAPL   0.007976  1.555578  5.076113\n",
      "AMZN   0.006494  1.321609  1.496422\n",
      "BRK-B  0.004940  0.564066 -0.703161\n",
      "JNJ    0.004265  0.505227  0.050780\n",
      "JPM    0.000035  1.253730 -1.368595\n",
      "PG     0.005090  0.369726 -0.848640\n",
      "INTC  -0.004287  1.246040  0.851423\n",
      "UNH    0.013578  0.636934 -0.485355\n",
      "BAC   -0.002838  1.485004 -2.046188\n",
      "T      0.000036  0.592937 -1.293326\n",
      "HD     0.001924  1.118873  0.235709\n",
      "XOM   -0.001451  0.749095  0.387778\n",
      "DIS    0.002779  1.166183 -1.751613\n",
      "VZ     0.002163  0.544612 -1.018644\n",
      "KO     0.002852  0.478461  0.039226\n",
      "MRK    0.002276  0.534557 -1.395063\n",
      "CMCSA  0.001539  0.920423 -1.285583\n",
      "CVX    0.001589  0.843157  0.617820\n",
      "PEP    0.005283  0.497128 -0.377135\n",
      "PFE    0.001437  0.611578 -1.413788\n"
     ]
    }
   ],
   "source": [
    "print(res.params)"
   ]
  },
  {
   "cell_type": "markdown",
   "metadata": {},
   "source": [
    "#### Stock Picking\n",
    "- Seleccion de Top 10 assets con mayor alpha ajustado por desvío"
   ]
  },
  {
   "cell_type": "code",
   "execution_count": 13,
   "metadata": {
    "ExecuteTime": {
     "end_time": "2020-09-07T21:59:42.773842Z",
     "start_time": "2020-09-07T21:59:42.763963Z"
    },
    "code_folding": []
   },
   "outputs": [
    {
     "name": "stdout",
     "output_type": "stream",
     "text": [
      "UNH      0.216933\n",
      "PEP      0.139949\n",
      "BRK-B    0.117502\n",
      "JNJ      0.113592\n",
      "PG       0.108053\n",
      "AAPL     0.073255\n",
      "KO       0.070742\n",
      "AMZN     0.060707\n",
      "VZ       0.044040\n",
      "DIS      0.043948\n",
      "dtype: float64\n"
     ]
    }
   ],
   "source": [
    "std = assets.std()\n",
    "alpha = (res.alphas/std).sort_values(ascending=False).iloc[0:10]\n",
    "print(alpha)"
   ]
  },
  {
   "cell_type": "markdown",
   "metadata": {},
   "source": [
    "- Extraer labels"
   ]
  },
  {
   "cell_type": "code",
   "execution_count": 14,
   "metadata": {
    "ExecuteTime": {
     "end_time": "2020-09-07T21:59:42.779370Z",
     "start_time": "2020-09-07T21:59:42.775969Z"
    },
    "code_folding": []
   },
   "outputs": [
    {
     "name": "stdout",
     "output_type": "stream",
     "text": [
      "['UNH', 'PEP', 'BRK-B', 'JNJ', 'PG', 'AAPL', 'KO', 'AMZN', 'VZ', 'DIS']\n"
     ]
    }
   ],
   "source": [
    "labels = list(alpha.index)\n",
    "print(labels)"
   ]
  },
  {
   "cell_type": "markdown",
   "metadata": {},
   "source": [
    "- List comprenhension para ordenar la lista de \"labels\" y poder matchear con el orden de las columnas de \"tickers\""
   ]
  },
  {
   "cell_type": "code",
   "execution_count": 15,
   "metadata": {
    "ExecuteTime": {
     "end_time": "2020-09-07T21:59:42.793901Z",
     "start_time": "2020-09-07T21:59:42.781263Z"
    },
    "code_folding": []
   },
   "outputs": [
    {
     "data": {
      "text/plain": [
       "['AAPL', 'AMZN', 'BRK-B', 'JNJ', 'PG', 'UNH', 'DIS', 'VZ', 'KO', 'PEP']"
      ]
     },
     "execution_count": 15,
     "metadata": {},
     "output_type": "execute_result"
    }
   ],
   "source": [
    "k = [k for k in tickers if k in labels]\n",
    "k"
   ]
  },
  {
   "cell_type": "markdown",
   "metadata": {},
   "source": [
    "- Una vez ordenada la lista \"labels\", puedo filtar los retornos de \"sample\""
   ]
  },
  {
   "cell_type": "code",
   "execution_count": 16,
   "metadata": {
    "ExecuteTime": {
     "end_time": "2020-09-07T21:59:42.816871Z",
     "start_time": "2020-09-07T21:59:42.803666Z"
    },
    "code_folding": []
   },
   "outputs": [
    {
     "data": {
      "text/html": [
       "<div>\n",
       "<style scoped>\n",
       "    .dataframe tbody tr th:only-of-type {\n",
       "        vertical-align: middle;\n",
       "    }\n",
       "\n",
       "    .dataframe tbody tr th {\n",
       "        vertical-align: top;\n",
       "    }\n",
       "\n",
       "    .dataframe thead th {\n",
       "        text-align: right;\n",
       "    }\n",
       "</style>\n",
       "<table border=\"1\" class=\"dataframe\">\n",
       "  <thead>\n",
       "    <tr style=\"text-align: right;\">\n",
       "      <th></th>\n",
       "      <th>AAPL</th>\n",
       "      <th>AMZN</th>\n",
       "      <th>BRK-B</th>\n",
       "      <th>JNJ</th>\n",
       "      <th>PG</th>\n",
       "      <th>UNH</th>\n",
       "      <th>DIS</th>\n",
       "      <th>VZ</th>\n",
       "      <th>KO</th>\n",
       "      <th>PEP</th>\n",
       "    </tr>\n",
       "    <tr>\n",
       "      <th>Date</th>\n",
       "      <th></th>\n",
       "      <th></th>\n",
       "      <th></th>\n",
       "      <th></th>\n",
       "      <th></th>\n",
       "      <th></th>\n",
       "      <th></th>\n",
       "      <th></th>\n",
       "      <th></th>\n",
       "      <th></th>\n",
       "    </tr>\n",
       "  </thead>\n",
       "  <tbody>\n",
       "    <tr>\n",
       "      <th>2000-01-31</th>\n",
       "      <td>-0.000398</td>\n",
       "      <td>-0.291397</td>\n",
       "      <td>-0.024391</td>\n",
       "      <td>-0.052293</td>\n",
       "      <td>-0.009671</td>\n",
       "      <td>0.096336</td>\n",
       "      <td>0.188657</td>\n",
       "      <td>-0.083019</td>\n",
       "      <td>-0.000942</td>\n",
       "      <td>-0.000450</td>\n",
       "    </tr>\n",
       "    <tr>\n",
       "      <th>2000-02-29</th>\n",
       "      <td>0.077052</td>\n",
       "      <td>0.062826</td>\n",
       "      <td>-0.085731</td>\n",
       "      <td>-0.128609</td>\n",
       "      <td>-0.153195</td>\n",
       "      <td>-0.015487</td>\n",
       "      <td>0.048381</td>\n",
       "      <td>-0.066224</td>\n",
       "      <td>-0.126543</td>\n",
       "      <td>-0.058498</td>\n",
       "    </tr>\n",
       "    <tr>\n",
       "      <th>2000-03-31</th>\n",
       "      <td>0.140686</td>\n",
       "      <td>-0.082889</td>\n",
       "      <td>0.012414</td>\n",
       "      <td>-0.058848</td>\n",
       "      <td>-0.395681</td>\n",
       "      <td>-0.057166</td>\n",
       "      <td>0.048169</td>\n",
       "      <td>0.062410</td>\n",
       "      <td>-0.120263</td>\n",
       "      <td>-0.030431</td>\n",
       "    </tr>\n",
       "    <tr>\n",
       "      <th>2000-04-30</th>\n",
       "      <td>-0.042910</td>\n",
       "      <td>-0.168155</td>\n",
       "      <td>0.152407</td>\n",
       "      <td>0.062305</td>\n",
       "      <td>0.037362</td>\n",
       "      <td>0.204230</td>\n",
       "      <td>0.080266</td>\n",
       "      <td>0.076018</td>\n",
       "      <td>0.019333</td>\n",
       "      <td>0.121883</td>\n",
       "    </tr>\n",
       "    <tr>\n",
       "      <th>2000-05-31</th>\n",
       "      <td>-0.199799</td>\n",
       "      <td>-0.048727</td>\n",
       "      <td>-0.024081</td>\n",
       "      <td>0.098899</td>\n",
       "      <td>-0.010699</td>\n",
       "      <td>0.094077</td>\n",
       "      <td>0.002854</td>\n",
       "      <td>-0.150446</td>\n",
       "      <td>0.044855</td>\n",
       "      <td>0.061670</td>\n",
       "    </tr>\n",
       "  </tbody>\n",
       "</table>\n",
       "</div>"
      ],
      "text/plain": [
       "                AAPL      AMZN     BRK-B       JNJ        PG       UNH  \\\n",
       "Date                                                                     \n",
       "2000-01-31 -0.000398 -0.291397 -0.024391 -0.052293 -0.009671  0.096336   \n",
       "2000-02-29  0.077052  0.062826 -0.085731 -0.128609 -0.153195 -0.015487   \n",
       "2000-03-31  0.140686 -0.082889  0.012414 -0.058848 -0.395681 -0.057166   \n",
       "2000-04-30 -0.042910 -0.168155  0.152407  0.062305  0.037362  0.204230   \n",
       "2000-05-31 -0.199799 -0.048727 -0.024081  0.098899 -0.010699  0.094077   \n",
       "\n",
       "                 DIS        VZ        KO       PEP  \n",
       "Date                                                \n",
       "2000-01-31  0.188657 -0.083019 -0.000942 -0.000450  \n",
       "2000-02-29  0.048381 -0.066224 -0.126543 -0.058498  \n",
       "2000-03-31  0.048169  0.062410 -0.120263 -0.030431  \n",
       "2000-04-30  0.080266  0.076018  0.019333  0.121883  \n",
       "2000-05-31  0.002854 -0.150446  0.044855  0.061670  "
      ]
     },
     "execution_count": 16,
     "metadata": {},
     "output_type": "execute_result"
    }
   ],
   "source": [
    "ret_sample = sample[k]\n",
    "ret_sample.head()"
   ]
  },
  {
   "cell_type": "markdown",
   "metadata": {},
   "source": [
    "- Covarianza y Retornos"
   ]
  },
  {
   "cell_type": "code",
   "execution_count": 17,
   "metadata": {
    "ExecuteTime": {
     "end_time": "2020-09-07T21:59:42.823275Z",
     "start_time": "2020-09-07T21:59:42.818436Z"
    },
    "code_folding": []
   },
   "outputs": [],
   "source": [
    "cov_sample = ret_sample.cov()\n",
    "mu_sample = JS_shrinkage(ret_sample,frequency=12)"
   ]
  },
  {
   "cell_type": "markdown",
   "metadata": {},
   "source": [
    "- from pypfopt import EfficientFrontier obtengo un método para calcular ${weights}^*$"
   ]
  },
  {
   "cell_type": "code",
   "execution_count": 18,
   "metadata": {
    "ExecuteTime": {
     "end_time": "2020-09-07T21:59:42.841484Z",
     "start_time": "2020-09-07T21:59:42.824840Z"
    },
    "code_folding": []
   },
   "outputs": [
    {
     "data": {
      "text/plain": [
       "array([0.03472588, 0.00253091, 0.20990315, 0.21403311, 0.09062892,\n",
       "       0.01991626, 0.        , 0.1505788 , 0.17655682, 0.10112615])"
      ]
     },
     "execution_count": 18,
     "metadata": {},
     "output_type": "execute_result"
    }
   ],
   "source": [
    "# Método para obtener weights*\n",
    "efOpt = EfficientFrontier(mu_sample,cov_sample)\n",
    "\n",
    "# Diccionario de weights\n",
    "wdicc = efOpt.min_volatility().values() #Si saco .values() veo que cuales son los tickers\n",
    "\n",
    "# Lista de weights\n",
    "weights = []\n",
    "\n",
    "# Append de Dicc.values a Lista\n",
    "for v in wdicc:\n",
    "    weights.append(v)\n",
    "\n",
    "weights = np.array(weights)\n",
    "weights"
   ]
  },
  {
   "cell_type": "markdown",
   "metadata": {},
   "source": [
    "#### Portfolio MinVar"
   ]
  },
  {
   "cell_type": "code",
   "execution_count": 19,
   "metadata": {
    "ExecuteTime": {
     "end_time": "2020-09-07T21:59:42.853250Z",
     "start_time": "2020-09-07T21:59:42.843142Z"
    },
    "code_folding": []
   },
   "outputs": [
    {
     "name": "stdout",
     "output_type": "stream",
     "text": [
      "MinVar. Portfolio:\n",
      "Retorno          : 0.08257\n",
      "Volatilidad      : 0.02954\n"
     ]
    }
   ],
   "source": [
    "MinVarPort = ret_sample.mul(weights,axis=1).sum(axis=1)\n",
    "MinVarRet = np.sum(mu_sample*weights)\n",
    "MinVarVol = np.sqrt(np.dot(weights.T,np.dot(cov_sample,weights)))\n",
    "print('MinVar. Portfolio:')\n",
    "print('Retorno          :',np.round(MinVarRet,5))\n",
    "print('Volatilidad      :',np.round(MinVarVol,5))"
   ]
  },
  {
   "cell_type": "markdown",
   "metadata": {},
   "source": [
    "### Performance \n",
    "- Contraste Single Period entre MinVar. Portfolio, Equally Weighted Portfolio y Benchmark"
   ]
  },
  {
   "cell_type": "code",
   "execution_count": 20,
   "metadata": {
    "ExecuteTime": {
     "end_time": "2020-09-07T21:59:42.868240Z",
     "start_time": "2020-09-07T21:59:42.855315Z"
    },
    "code_folding": []
   },
   "outputs": [
    {
     "data": {
      "text/html": [
       "<div>\n",
       "<style scoped>\n",
       "    .dataframe tbody tr th:only-of-type {\n",
       "        vertical-align: middle;\n",
       "    }\n",
       "\n",
       "    .dataframe tbody tr th {\n",
       "        vertical-align: top;\n",
       "    }\n",
       "\n",
       "    .dataframe thead th {\n",
       "        text-align: right;\n",
       "    }\n",
       "</style>\n",
       "<table border=\"1\" class=\"dataframe\">\n",
       "  <thead>\n",
       "    <tr style=\"text-align: right;\">\n",
       "      <th></th>\n",
       "      <th>MinVarPort</th>\n",
       "      <th>EWPort</th>\n",
       "      <th>Benchmark</th>\n",
       "    </tr>\n",
       "    <tr>\n",
       "      <th>Date</th>\n",
       "      <th></th>\n",
       "      <th></th>\n",
       "      <th></th>\n",
       "    </tr>\n",
       "  </thead>\n",
       "  <tbody>\n",
       "    <tr>\n",
       "      <th>2000-01-31</th>\n",
       "      <td>-0.028734</td>\n",
       "      <td>-0.015391</td>\n",
       "      <td>-0.002256</td>\n",
       "    </tr>\n",
       "    <tr>\n",
       "      <th>2000-02-29</th>\n",
       "      <td>-0.095109</td>\n",
       "      <td>-0.033751</td>\n",
       "      <td>-0.026203</td>\n",
       "    </tr>\n",
       "    <tr>\n",
       "      <th>2000-03-31</th>\n",
       "      <td>-0.057226</td>\n",
       "      <td>-0.010232</td>\n",
       "      <td>0.040327</td>\n",
       "    </tr>\n",
       "    <tr>\n",
       "      <th>2000-04-30</th>\n",
       "      <td>0.078049</td>\n",
       "      <td>0.035081</td>\n",
       "      <td>0.013145</td>\n",
       "    </tr>\n",
       "    <tr>\n",
       "      <th>2000-05-31</th>\n",
       "      <td>0.001457</td>\n",
       "      <td>-0.029349</td>\n",
       "      <td>-0.029971</td>\n",
       "    </tr>\n",
       "    <tr>\n",
       "      <th>...</th>\n",
       "      <td>...</td>\n",
       "      <td>...</td>\n",
       "      <td>...</td>\n",
       "    </tr>\n",
       "    <tr>\n",
       "      <th>2020-04-30</th>\n",
       "      <td>0.040179</td>\n",
       "      <td>0.046768</td>\n",
       "      <td>0.043184</td>\n",
       "    </tr>\n",
       "    <tr>\n",
       "      <th>2020-05-31</th>\n",
       "      <td>-0.013000</td>\n",
       "      <td>0.033493</td>\n",
       "      <td>0.057307</td>\n",
       "    </tr>\n",
       "    <tr>\n",
       "      <th>2020-06-30</th>\n",
       "      <td>0.019410</td>\n",
       "      <td>0.039004</td>\n",
       "      <td>0.063087</td>\n",
       "    </tr>\n",
       "    <tr>\n",
       "      <th>2020-07-31</th>\n",
       "      <td>0.021857</td>\n",
       "      <td>0.014780</td>\n",
       "      <td>0.034042</td>\n",
       "    </tr>\n",
       "    <tr>\n",
       "      <th>2020-08-31</th>\n",
       "      <td>0.059980</td>\n",
       "      <td>0.046557</td>\n",
       "      <td>0.056954</td>\n",
       "    </tr>\n",
       "  </tbody>\n",
       "</table>\n",
       "<p>248 rows × 3 columns</p>\n",
       "</div>"
      ],
      "text/plain": [
       "            MinVarPort    EWPort  Benchmark\n",
       "Date                                       \n",
       "2000-01-31   -0.028734 -0.015391  -0.002256\n",
       "2000-02-29   -0.095109 -0.033751  -0.026203\n",
       "2000-03-31   -0.057226 -0.010232   0.040327\n",
       "2000-04-30    0.078049  0.035081   0.013145\n",
       "2000-05-31    0.001457 -0.029349  -0.029971\n",
       "...                ...       ...        ...\n",
       "2020-04-30    0.040179  0.046768   0.043184\n",
       "2020-05-31   -0.013000  0.033493   0.057307\n",
       "2020-06-30    0.019410  0.039004   0.063087\n",
       "2020-07-31    0.021857  0.014780   0.034042\n",
       "2020-08-31    0.059980  0.046557   0.056954\n",
       "\n",
       "[248 rows x 3 columns]"
      ]
     },
     "execution_count": 20,
     "metadata": {},
     "output_type": "execute_result"
    }
   ],
   "source": [
    "Backtest = pd.concat([MinVarPort,EWPort,factor0],axis=1)\n",
    "Backtest.columns = ['MinVarPort','EWPort','Benchmark']\n",
    "Backtest"
   ]
  },
  {
   "cell_type": "markdown",
   "metadata": {},
   "source": [
    "#### Visualización"
   ]
  },
  {
   "cell_type": "code",
   "execution_count": 21,
   "metadata": {
    "ExecuteTime": {
     "end_time": "2020-09-07T21:59:43.122308Z",
     "start_time": "2020-09-07T21:59:42.870025Z"
    },
    "code_folding": []
   },
   "outputs": [
    {
     "data": {
      "image/png": "[encoded data removed]",
      "text/plain": [
       "<Figure size 1080x360 with 1 Axes>"
      ]
     },
     "metadata": {
      "needs_background": "light"
     },
     "output_type": "display_data"
    }
   ],
   "source": [
    "plt.figure(figsize=(15,5))\n",
    "plt.title('Estrategia Pasiva Single Period')\n",
    "plt.plot(((1+Backtest.iloc[:,0]).cumprod()-1),c=\"b\",ls=\"-\",lw=1.5,label='MinVar')\n",
    "plt.plot(((1+Backtest.iloc[:,1]).cumprod()-1),c=\"g\",ls=\"-\",lw=1.5,label='EW')\n",
    "plt.plot(((1+Backtest.iloc[:,2]).cumprod()-1),c=\"k\",ls=\"-\",lw=1.5,label='Benchmark')\n",
    "plt.minorticks_on()\n",
    "plt.grid(which='major',linestyle=':',linewidth='0.3',color='grey')\n",
    "plt.grid(which='minor',linestyle=':',linewidth='0.3',color='grey')\n",
    "plt.legend()\n",
    "plt.show()"
   ]
  },
  {
   "cell_type": "markdown",
   "metadata": {},
   "source": [
    "### Portfolio Multiperiod \n",
    "- Rebalanceo Mensual"
   ]
  },
  {
   "cell_type": "code",
   "execution_count": 22,
   "metadata": {
    "ExecuteTime": {
     "end_time": "2020-09-07T21:59:43.125919Z",
     "start_time": "2020-09-07T21:59:43.123883Z"
    },
    "code_folding": []
   },
   "outputs": [],
   "source": [
    "#Universo de activos\n",
    "InvestUniverse = list(assets.columns)\n",
    "#Vector de Holdings\n",
    "Holdings = []\n",
    "#Weights\n",
    "AllWi = []"
   ]
  },
  {
   "cell_type": "markdown",
   "metadata": {
    "ExecuteTime": {
     "end_time": "2020-09-07T16:54:05.779661Z",
     "start_time": "2020-09-07T16:54:05.776483Z"
    }
   },
   "source": [
    "- For loop para extraer labels"
   ]
  },
  {
   "cell_type": "code",
   "execution_count": 23,
   "metadata": {
    "ExecuteTime": {
     "end_time": "2020-09-07T21:59:45.407594Z",
     "start_time": "2020-09-07T21:59:43.127495Z"
    },
    "code_folding": [
     0,
     9
    ]
   },
   "outputs": [
    {
     "name": "stdout",
     "output_type": "stream",
     "text": [
      "0\n",
      "1\n",
      "2\n",
      "3\n",
      "4\n",
      "5\n",
      "6\n",
      "7\n",
      "8\n",
      "9\n",
      "10\n",
      "11\n",
      "12\n",
      "13\n",
      "14\n",
      "15\n",
      "16\n",
      "17\n",
      "18\n",
      "19\n",
      "20\n",
      "21\n",
      "22\n",
      "23\n",
      "24\n",
      "25\n",
      "26\n",
      "27\n",
      "28\n",
      "29\n",
      "30\n",
      "31\n",
      "32\n",
      "33\n",
      "34\n",
      "35\n",
      "36\n",
      "37\n",
      "38\n",
      "39\n",
      "40\n",
      "41\n",
      "42\n",
      "43\n",
      "44\n",
      "45\n",
      "46\n",
      "47\n",
      "48\n",
      "49\n",
      "50\n",
      "51\n",
      "52\n",
      "53\n",
      "54\n",
      "55\n",
      "56\n",
      "57\n",
      "58\n",
      "59\n",
      "60\n",
      "61\n",
      "62\n",
      "63\n",
      "64\n",
      "65\n",
      "66\n",
      "67\n",
      "68\n",
      "69\n",
      "70\n",
      "71\n",
      "72\n",
      "73\n",
      "74\n",
      "75\n",
      "76\n",
      "77\n",
      "78\n",
      "79\n",
      "80\n",
      "81\n",
      "82\n",
      "83\n",
      "84\n",
      "85\n",
      "86\n",
      "87\n",
      "88\n",
      "89\n",
      "90\n",
      "91\n",
      "92\n",
      "93\n",
      "94\n",
      "95\n",
      "96\n",
      "97\n",
      "98\n",
      "99\n",
      "100\n",
      "101\n",
      "102\n",
      "103\n",
      "104\n",
      "105\n",
      "106\n",
      "107\n",
      "108\n",
      "109\n",
      "110\n",
      "111\n",
      "112\n",
      "113\n",
      "114\n",
      "115\n",
      "116\n",
      "117\n",
      "118\n",
      "119\n",
      "120\n",
      "121\n",
      "122\n",
      "123\n",
      "124\n",
      "125\n",
      "126\n",
      "127\n",
      "128\n",
      "129\n",
      "130\n",
      "131\n",
      "132\n",
      "133\n",
      "134\n",
      "135\n",
      "136\n",
      "137\n",
      "138\n",
      "139\n",
      "140\n",
      "141\n",
      "142\n",
      "143\n",
      "144\n",
      "145\n",
      "146\n",
      "147\n",
      "148\n",
      "149\n",
      "150\n",
      "151\n",
      "152\n",
      "153\n",
      "154\n",
      "155\n",
      "156\n",
      "157\n",
      "158\n",
      "159\n",
      "160\n",
      "161\n",
      "162\n",
      "163\n",
      "164\n",
      "165\n",
      "166\n",
      "167\n",
      "168\n",
      "169\n",
      "170\n",
      "171\n",
      "172\n",
      "173\n",
      "174\n",
      "175\n",
      "176\n",
      "177\n",
      "178\n",
      "179\n",
      "180\n",
      "181\n",
      "182\n",
      "183\n",
      "184\n",
      "185\n",
      "186\n",
      "187\n",
      "188\n",
      "189\n",
      "190\n",
      "191\n",
      "192\n",
      "193\n",
      "194\n",
      "195\n",
      "196\n",
      "197\n",
      "198\n",
      "199\n",
      "200\n",
      "201\n",
      "202\n",
      "203\n",
      "204\n",
      "205\n",
      "206\n",
      "207\n",
      "208\n",
      "209\n",
      "210\n",
      "211\n",
      "212\n",
      "213\n",
      "214\n",
      "215\n",
      "216\n",
      "217\n",
      "218\n",
      "219\n",
      "220\n",
      "221\n",
      "222\n",
      "223\n",
      "224\n",
      "225\n",
      "226\n",
      "227\n",
      "228\n",
      "229\n",
      "230\n",
      "231\n",
      "232\n",
      "233\n",
      "234\n",
      "235\n"
     ]
    }
   ],
   "source": [
    "for i in range(0,len(assets)-12):\n",
    "    print(i)\n",
    "    \n",
    "    #Depuración de activos NA\n",
    "    na_id = assets.iloc[(0+i):(12+i),].mean().isna()\n",
    "    na_id = na_id[na_id == False]\n",
    "    \n",
    "    #Subset\n",
    "    retSubset = assets.iloc[(0+i):(12+i),]\n",
    "    if len(na_id) > 0:\n",
    "        retSubset = assets.iloc[(0+i):(12+i),][na_id.index]\n",
    "   \n",
    "    #Regresión\n",
    "    Y = retSubset\n",
    "    f0 = factor0.loc[Y.index,]\n",
    "    f1 = factor1.loc[Y.index,]\n",
    "    X = pd.concat([f0,f1],axis=1)\n",
    "    \n",
    "    # Modelo\n",
    "    mod = TradedFactorModel(Y,X)\n",
    "    \n",
    "    # Resultados\n",
    "    res = mod.fit()\n",
    "\n",
    "    # Desvío de cada serie de tiempo\n",
    "    std = Y.std()\n",
    "    \n",
    "    # Alfa ajustado por Desvío\n",
    "    alpha = (res.alphas/std).sort_values(ascending=False).iloc[0:10]\n",
    "    \n",
    "    # Alpha labels\n",
    "    label = list(alpha.index)\n",
    "    \n",
    "    # List comprenhension para matchear labels en el orden de tickers\n",
    "    k = [k for k in InvestUniverse if k in label]\n",
    "    \n",
    "    #Append cada elemento de k en una lista\n",
    "    Holdings.append(k)"
   ]
  },
  {
   "cell_type": "markdown",
   "metadata": {},
   "source": [
    "- Ajuste de weights para cada momento del periodo analizado"
   ]
  },
  {
   "cell_type": "code",
   "execution_count": 24,
   "metadata": {
    "ExecuteTime": {
     "end_time": "2020-09-07T21:59:47.628945Z",
     "start_time": "2020-09-07T21:59:45.422288Z"
    },
    "code_folding": [
     1
    ]
   },
   "outputs": [],
   "source": [
    "# Iteración para cada Holding con el fin de extraer weights\n",
    "for i in Holdings:\n",
    "        \n",
    "    # Filtro la Base por cada Holding\n",
    "    ret_sample = assets[i]\n",
    "        \n",
    "    # Calculo la covarianza del Filtro\n",
    "    cov_sample = ret_sample.cov()\n",
    "        \n",
    "    # Calculo los retornos promedios ajustados por estimador JS\n",
    "    mu_sample = JS_shrinkage(ret_sample,frequency=12)\n",
    "        \n",
    "    # Metodo para calcular los weights\n",
    "    efOpt = EfficientFrontier(mu_sample,cov_sample)\n",
    "    weights = efOpt.min_volatility().values()\n",
    "    w = []\n",
    "    for i in weights:\n",
    "        w.append(i)\n",
    "    w = np.array(w)\n",
    "    AllWi.append(w)"
   ]
  },
  {
   "cell_type": "code",
   "execution_count": 25,
   "metadata": {
    "ExecuteTime": {
     "end_time": "2020-09-07T21:59:47.634883Z",
     "start_time": "2020-09-07T21:59:47.630542Z"
    }
   },
   "outputs": [
    {
     "data": {
      "text/plain": [
       "[['BRK-B', 'JNJ', 'JPM', 'INTC', 'UNH', 'XOM', 'DIS', 'MRK', 'PEP', 'PFE'],\n",
       " ['BRK-B', 'JNJ', 'JPM', 'INTC', 'UNH', 'BAC', 'T', 'MRK', 'PEP', 'PFE'],\n",
       " ['BRK-B', 'JNJ', 'JPM', 'UNH', 'BAC', 'T', 'XOM', 'CVX', 'PEP', 'PFE'],\n",
       " ['BRK-B', 'JNJ', 'JPM', 'UNH', 'BAC', 'XOM', 'KO', 'MRK', 'PEP', 'PFE'],\n",
       " ['BRK-B', 'JNJ', 'JPM', 'UNH', 'BAC', 'XOM', 'KO', 'CMCSA', 'PEP', 'PFE']]"
      ]
     },
     "execution_count": 25,
     "metadata": {},
     "output_type": "execute_result"
    }
   ],
   "source": [
    "Holdings[0:5]"
   ]
  },
  {
   "cell_type": "code",
   "execution_count": 26,
   "metadata": {
    "ExecuteTime": {
     "end_time": "2020-09-07T21:59:47.641065Z",
     "start_time": "2020-09-07T21:59:47.636353Z"
    }
   },
   "outputs": [
    {
     "data": {
      "text/plain": [
       "[array([0.23207067, 0.23842796, 0.        , 0.02984964, 0.01940636,\n",
       "        0.13028323, 0.        , 0.0167742 , 0.26796636, 0.06522158]),\n",
       " array([0.22195733, 0.30044225, 0.        , 0.03436032, 0.03465212,\n",
       "        0.        , 0.16949136, 0.        , 0.1839274 , 0.05516923]),\n",
       " array([0.21164473, 0.27251974, 0.        , 0.02784531, 0.        ,\n",
       "        0.14520662, 0.08630137, 0.00472801, 0.2000452 , 0.05170902]),\n",
       " array([0.21959503, 0.21560864, 0.        , 0.01271478, 0.        ,\n",
       "        0.11266426, 0.20199806, 0.        , 0.16065566, 0.07676358]),\n",
       " array([0.2125874 , 0.20482681, 0.        , 0.01339242, 0.        ,\n",
       "        0.10350657, 0.19686194, 0.03676714, 0.16086309, 0.07119464])]"
      ]
     },
     "execution_count": 26,
     "metadata": {},
     "output_type": "execute_result"
    }
   ],
   "source": [
    "AllWi[0:5]"
   ]
  },
  {
   "cell_type": "markdown",
   "metadata": {},
   "source": [
    "- Retornos [ t=12 ; T ]"
   ]
  },
  {
   "cell_type": "code",
   "execution_count": 27,
   "metadata": {
    "ExecuteTime": {
     "end_time": "2020-09-07T21:59:47.647307Z",
     "start_time": "2020-09-07T21:59:47.642851Z"
    }
   },
   "outputs": [
    {
     "data": {
      "text/plain": [
       "(236, 21)"
      ]
     },
     "execution_count": 27,
     "metadata": {},
     "output_type": "execute_result"
    }
   ],
   "source": [
    "returns = assets.iloc[12:,:]\n",
    "returns.shape"
   ]
  },
  {
   "cell_type": "markdown",
   "metadata": {},
   "source": [
    "#### Portfolio rebalanceado"
   ]
  },
  {
   "cell_type": "code",
   "execution_count": 28,
   "metadata": {
    "ExecuteTime": {
     "end_time": "2020-09-07T21:59:47.888270Z",
     "start_time": "2020-09-07T21:59:47.649682Z"
    },
    "code_folding": []
   },
   "outputs": [],
   "source": [
    "# Lista para appendear retornos rebalanceados\n",
    "PortR = []\n",
    "#PortRc = []\n",
    "\n",
    "for i in range(0,len(AllWi)-1):\n",
    "    # Cada fila de la matriz de Retornos es filtrada por Holding\n",
    "    # Cada fila filtrada es multiplicada por el Weight Optimo\n",
    "    # i+1 revita el Look Ahead Bias\n",
    "    Result = np.sum(returns[Holdings[i]].iloc[i,:]*AllWi[i+1])\n",
    "    PortR.append(Result)\n",
    "    # Costo de transacción\n",
    "#    c = 0.005\n",
    "#    Resultc = np.sum(returns[Holdings[i]].iloc[i,:]*AllWi[i+1])-c\n",
    "#    PortRc.append(Resultc)"
   ]
  },
  {
   "cell_type": "code",
   "execution_count": 29,
   "metadata": {
    "ExecuteTime": {
     "end_time": "2020-09-07T21:59:47.892154Z",
     "start_time": "2020-09-07T21:59:47.889616Z"
    },
    "code_folding": []
   },
   "outputs": [],
   "source": [
    "# Transformo listas a DataFrames\n",
    "PortR = pd.DataFrame(PortR,columns=['PortR'])\n",
    "#PortRc = pd.DataFrame(PortRc,columns=['PortRc'])\n",
    "\n",
    "# Concateno resultados\n",
    "#portval = pd.concat([PortR,PortRc],axis=1)"
   ]
  },
  {
   "cell_type": "markdown",
   "metadata": {},
   "source": [
    "### Backtest"
   ]
  },
  {
   "cell_type": "code",
   "execution_count": 30,
   "metadata": {
    "ExecuteTime": {
     "end_time": "2020-09-07T21:59:47.896933Z",
     "start_time": "2020-09-07T21:59:47.893576Z"
    },
    "code_folding": []
   },
   "outputs": [],
   "source": [
    "# Defino un nuevo DataFrame con el índice correspondiente\n",
    "df = Backtest.iloc[((len(Backtest)+1)-len(returns)):,]\n",
    "portval = pd.DataFrame(PortR.values,index=df.index,columns=PortR.columns)\n",
    "#portval = pd.DataFrame(portval.values,index=df.index,columns=portval.columns)"
   ]
  },
  {
   "cell_type": "code",
   "execution_count": 31,
   "metadata": {
    "ExecuteTime": {
     "end_time": "2020-09-07T21:59:47.909821Z",
     "start_time": "2020-09-07T21:59:47.898271Z"
    },
    "code_folding": []
   },
   "outputs": [
    {
     "data": {
      "text/html": [
       "<div>\n",
       "<style scoped>\n",
       "    .dataframe tbody tr th:only-of-type {\n",
       "        vertical-align: middle;\n",
       "    }\n",
       "\n",
       "    .dataframe tbody tr th {\n",
       "        vertical-align: top;\n",
       "    }\n",
       "\n",
       "    .dataframe thead th {\n",
       "        text-align: right;\n",
       "    }\n",
       "</style>\n",
       "<table border=\"1\" class=\"dataframe\">\n",
       "  <thead>\n",
       "    <tr style=\"text-align: right;\">\n",
       "      <th></th>\n",
       "      <th>MinVarPort</th>\n",
       "      <th>EWPort</th>\n",
       "      <th>Benchmark</th>\n",
       "      <th>PortR</th>\n",
       "    </tr>\n",
       "    <tr>\n",
       "      <th>Date</th>\n",
       "      <th></th>\n",
       "      <th></th>\n",
       "      <th></th>\n",
       "      <th></th>\n",
       "    </tr>\n",
       "  </thead>\n",
       "  <tbody>\n",
       "    <tr>\n",
       "      <th>2001-02-28</th>\n",
       "      <td>0.009414</td>\n",
       "      <td>-0.001106</td>\n",
       "      <td>-0.021228</td>\n",
       "      <td>-0.018240</td>\n",
       "    </tr>\n",
       "    <tr>\n",
       "      <th>2001-03-31</th>\n",
       "      <td>-0.067837</td>\n",
       "      <td>-0.064418</td>\n",
       "      <td>-0.095114</td>\n",
       "      <td>0.015719</td>\n",
       "    </tr>\n",
       "    <tr>\n",
       "      <th>2001-04-30</th>\n",
       "      <td>-0.007452</td>\n",
       "      <td>0.023731</td>\n",
       "      <td>0.004217</td>\n",
       "      <td>-0.045854</td>\n",
       "    </tr>\n",
       "    <tr>\n",
       "      <th>2001-05-31</th>\n",
       "      <td>0.048559</td>\n",
       "      <td>0.057448</td>\n",
       "      <td>0.066404</td>\n",
       "      <td>-0.012344</td>\n",
       "    </tr>\n",
       "    <tr>\n",
       "      <th>2001-06-30</th>\n",
       "      <td>-0.007609</td>\n",
       "      <td>-0.021640</td>\n",
       "      <td>-0.024210</td>\n",
       "      <td>0.048073</td>\n",
       "    </tr>\n",
       "    <tr>\n",
       "      <th>...</th>\n",
       "      <td>...</td>\n",
       "      <td>...</td>\n",
       "      <td>...</td>\n",
       "      <td>...</td>\n",
       "    </tr>\n",
       "    <tr>\n",
       "      <th>2020-04-30</th>\n",
       "      <td>0.040179</td>\n",
       "      <td>0.046768</td>\n",
       "      <td>0.043184</td>\n",
       "      <td>-0.129525</td>\n",
       "    </tr>\n",
       "    <tr>\n",
       "      <th>2020-05-31</th>\n",
       "      <td>-0.013000</td>\n",
       "      <td>0.033493</td>\n",
       "      <td>0.057307</td>\n",
       "      <td>0.057038</td>\n",
       "    </tr>\n",
       "    <tr>\n",
       "      <th>2020-06-30</th>\n",
       "      <td>0.019410</td>\n",
       "      <td>0.039004</td>\n",
       "      <td>0.063087</td>\n",
       "      <td>0.002460</td>\n",
       "    </tr>\n",
       "    <tr>\n",
       "      <th>2020-07-31</th>\n",
       "      <td>0.021857</td>\n",
       "      <td>0.014780</td>\n",
       "      <td>0.034042</td>\n",
       "      <td>0.013122</td>\n",
       "    </tr>\n",
       "    <tr>\n",
       "      <th>2020-08-31</th>\n",
       "      <td>0.059980</td>\n",
       "      <td>0.046557</td>\n",
       "      <td>0.056954</td>\n",
       "      <td>0.024373</td>\n",
       "    </tr>\n",
       "  </tbody>\n",
       "</table>\n",
       "<p>235 rows × 4 columns</p>\n",
       "</div>"
      ],
      "text/plain": [
       "            MinVarPort    EWPort  Benchmark     PortR\n",
       "Date                                                 \n",
       "2001-02-28    0.009414 -0.001106  -0.021228 -0.018240\n",
       "2001-03-31   -0.067837 -0.064418  -0.095114  0.015719\n",
       "2001-04-30   -0.007452  0.023731   0.004217 -0.045854\n",
       "2001-05-31    0.048559  0.057448   0.066404 -0.012344\n",
       "2001-06-30   -0.007609 -0.021640  -0.024210  0.048073\n",
       "...                ...       ...        ...       ...\n",
       "2020-04-30    0.040179  0.046768   0.043184 -0.129525\n",
       "2020-05-31   -0.013000  0.033493   0.057307  0.057038\n",
       "2020-06-30    0.019410  0.039004   0.063087  0.002460\n",
       "2020-07-31    0.021857  0.014780   0.034042  0.013122\n",
       "2020-08-31    0.059980  0.046557   0.056954  0.024373\n",
       "\n",
       "[235 rows x 4 columns]"
      ]
     },
     "execution_count": 31,
     "metadata": {},
     "output_type": "execute_result"
    }
   ],
   "source": [
    "# DataFrame con Resultados\n",
    "results = pd.concat([Backtest,portval],axis=1).dropna()\n",
    "results"
   ]
  },
  {
   "cell_type": "markdown",
   "metadata": {},
   "source": [
    "#### Visualización"
   ]
  },
  {
   "cell_type": "code",
   "execution_count": 32,
   "metadata": {
    "ExecuteTime": {
     "end_time": "2020-09-07T21:59:48.155530Z",
     "start_time": "2020-09-07T21:59:47.911221Z"
    },
    "code_folding": []
   },
   "outputs": [
    {
     "data": {
      "image/png": "[encoded data removed]",
      "text/plain": [
       "<Figure size 1080x360 with 1 Axes>"
      ]
     },
     "metadata": {
      "needs_background": "light"
     },
     "output_type": "display_data"
    }
   ],
   "source": [
    "plt.figure(figsize=(15,5))\n",
    "plt.title('Estrategia Activa Multiperiod vs Estrategia Pasiva')\n",
    "plt.plot(((1+results.iloc[:,0]).cumprod()-1),c=\"b\",ls=\"-\",lw=1.5,label='MinVar')\n",
    "plt.plot(((1+results.iloc[:,1]).cumprod()-1),c=\"g\",ls=\"-\",lw=1.5,label='EW')\n",
    "plt.plot(((1+results.iloc[:,2]).cumprod()-1),c=\"k\",ls=\"-\",lw=1.5,label='Benchmark')\n",
    "plt.plot(((1+results.iloc[:,3]).cumprod()-1),c=\"maroon\",ls=\"-\",lw=1.5,label='PortR')\n",
    "#plt.plot(((1+results.iloc[:,4]).cumprod()-1),c=\"sienna\",ls=\"-\",lw=1.5,label='PortRc')\n",
    "#plt.title('Me comieron la Ganancia los Fees')\n",
    "plt.minorticks_on()\n",
    "plt.grid(which='major',linestyle=':',linewidth='0.3',color='grey')\n",
    "plt.grid(which='minor',linestyle=':',linewidth='0.3',color='grey')\n",
    "plt.legend()\n",
    "\n",
    "plt.show()\n"
   ]
  },
  {
   "cell_type": "markdown",
   "metadata": {},
   "source": [
    "#### Performance Relativa\n",
    "- Visualizar retornos anuales\n",
    "- Compara la estrategia activa vs estrategia pasiva"
   ]
  },
  {
   "cell_type": "code",
   "execution_count": 33,
   "metadata": {
    "ExecuteTime": {
     "end_time": "2020-09-07T21:59:48.180473Z",
     "start_time": "2020-09-07T21:59:48.157010Z"
    }
   },
   "outputs": [],
   "source": [
    "# Estrategia activa\n",
    "active = ((1+results.PortR).cumprod())\n",
    "active = active.resample('Y').last()/active.resample('Y').first()-1\n",
    "active = active.groupby(active.index.year).max()*100\n",
    "\n",
    "# Estrategia pasiva\n",
    "pasive = MktRF.resample('Y').last()/MktRF.resample('Y').first()-1\n",
    "pasive = pasive.groupby(pasive.index.year).max()*100\n",
    "pasive.columns = ['Benchmark']\n",
    "\n",
    "\n",
    "# DataFrame\n",
    "year_strat = pd.concat([active,pasive],axis=1).dropna()"
   ]
  },
  {
   "cell_type": "code",
   "execution_count": 34,
   "metadata": {
    "ExecuteTime": {
     "end_time": "2020-09-07T21:59:48.711088Z",
     "start_time": "2020-09-07T21:59:48.181841Z"
    },
    "code_folding": []
   },
   "outputs": [
    {
     "data": {
      "text/plain": [
       "Text(0.5, 0, '')"
      ]
     },
     "execution_count": 34,
     "metadata": {},
     "output_type": "execute_result"
    },
    {
     "data": {
      "image/png": "[encoded data removed]",
      "text/plain": [
       "<Figure size 1080x360 with 1 Axes>"
      ]
     },
     "metadata": {
      "needs_background": "light"
     },
     "output_type": "display_data"
    }
   ],
   "source": [
    "ax = year_strat.plot(kind=\"bar\",figsize=(15,5),color=['cornflowerblue','grey'])\n",
    "ax.legend(loc='lower right')\n",
    "ax.minorticks_on()\n",
    "ax.grid(which='major',linestyle=':',linewidth='0.3',color='grey')\n",
    "ax.grid(which='minor',linestyle=':',linewidth='0.3',color='grey')\n",
    "ax.set_title('Performance Relativa')\n",
    "ax.set_ylabel('Retorno Anual expresado en %')\n",
    "ax.set_xlabel('')\n"
   ]
  },
  {
   "cell_type": "markdown",
   "metadata": {},
   "source": [
    "#### Resumen estadístico anual\n",
    "- Avg Return\n",
    "- Median\n",
    "- CAGR\n",
    "- Volatility\n",
    "- Skewness\n",
    "- Kurtosis\n",
    "- Sharpe ratio\n",
    "- Max DD"
   ]
  },
  {
   "cell_type": "markdown",
   "metadata": {},
   "source": [
    "#### Metricas Estrategia Activa"
   ]
  },
  {
   "cell_type": "code",
   "execution_count": 35,
   "metadata": {
    "ExecuteTime": {
     "end_time": "2020-09-07T21:59:48.722008Z",
     "start_time": "2020-09-07T21:59:48.712618Z"
    }
   },
   "outputs": [
    {
     "name": "stdout",
     "output_type": "stream",
     "text": [
      "Ret      : 9.987 %\n",
      "Median   : 15.543 %\n",
      "CAGR     : 468.819 %\n",
      "StdDev   : 11.268 %\n",
      "Skewness : -1.316\n",
      "Kurtosis : 4.904\n",
      "Sharpe   : 0.886\n",
      "Max      : 9.893 %\n",
      "Min      : -16.543 %\n"
     ]
    }
   ],
   "source": [
    "Ret = np.round((((1+results.PortR.mean())**12)-1)*100,3)\n",
    "print('Ret      :',Ret,'%')\n",
    "Median = np.round((((1+results.PortR.median())**12)-1)*100,3)\n",
    "print('Median   :',Median,'%')\n",
    "CAGR = np.round(((1+results.PortR).cumprod()-1)[-1]*100,3)\n",
    "print('CAGR     :',CAGR,'%')\n",
    "StdDev = np.round(results.PortR.std()*(12**0.5)*100,3)\n",
    "print('StdDev   :',StdDev,'%')\n",
    "Skewness = np.round(results.PortR.skew(),3)\n",
    "print('Skewness :',Skewness)\n",
    "Kurtosis = np.round(results.PortR.kurtosis(),3)\n",
    "print('Kurtosis :',Kurtosis)\n",
    "Sharpe = np.round((Ret/StdDev),3)\n",
    "print('Sharpe   :', Sharpe)\n",
    "Max = np.round(results.PortR.max()*100,3)\n",
    "print('Max      :', Max,'%')\n",
    "Min = np.round(results.PortR.min()*100,3)\n",
    "print('Min      :', Min,'%')"
   ]
  },
  {
   "cell_type": "markdown",
   "metadata": {},
   "source": [
    "#### Drawdown "
   ]
  },
  {
   "cell_type": "code",
   "execution_count": 36,
   "metadata": {
    "ExecuteTime": {
     "end_time": "2020-09-07T21:59:48.996942Z",
     "start_time": "2020-09-07T21:59:48.723352Z"
    }
   },
   "outputs": [
    {
     "data": {
      "image/png": "[encoded data removed]",
      "text/plain": [
       "<Figure size 1080x360 with 1 Axes>"
      ]
     },
     "metadata": {
      "needs_background": "light"
     },
     "output_type": "display_data"
    },
    {
     "name": "stdout",
     "output_type": "stream",
     "text": [
      "Max DD: -43.482 %\n"
     ]
    }
   ],
   "source": [
    "numerador = ((1+results.PortR).cumprod())-((1+results.PortR).cumprod()).cummax()\n",
    "denominador = ((1+results.PortR).cumprod()).cummax()\n",
    "Drawdown = numerador/denominador\n",
    "\n",
    "plt.figure(figsize=(15,5))\n",
    "plt.title('Drawdown Estrategia')\n",
    "Drawdown.plot(label='Drawdown')\n",
    "plt.minorticks_on()\n",
    "plt.grid(which='major',linestyle=':',linewidth='0.3',color='grey')\n",
    "plt.grid(which='minor',linestyle=':',linewidth='0.3',color='grey')\n",
    "plt.legend()\n",
    "plt.fill_between(Drawdown.index,Drawdown, color = 'red')\n",
    "plt.show()\n",
    "print('Max DD:', np.round(Drawdown.min()*100,3),'%')"
   ]
  },
  {
   "cell_type": "code",
   "execution_count": 37,
   "metadata": {
    "ExecuteTime": {
     "end_time": "2020-09-07T21:59:49.279120Z",
     "start_time": "2020-09-07T21:59:48.998627Z"
    }
   },
   "outputs": [
    {
     "data": {
      "image/png": "[encoded data removed]",
      "text/plain": [
       "<Figure size 1080x360 with 1 Axes>"
      ]
     },
     "metadata": {
      "needs_background": "light"
     },
     "output_type": "display_data"
    },
    {
     "name": "stdout",
     "output_type": "stream",
     "text": [
      "Max DD: -51.468 %\n"
     ]
    }
   ],
   "source": [
    "numerador = ((1+results.Benchmark).cumprod())-((1+results.Benchmark).cumprod()).cummax()\n",
    "denominador = ((1+results.Benchmark).cumprod()).cummax()\n",
    "Drawdown = numerador/denominador\n",
    "\n",
    "plt.figure(figsize=(15,5))\n",
    "plt.title('Drawdown Benchmark')\n",
    "Drawdown.plot(label='Drawdown')\n",
    "plt.minorticks_on()\n",
    "plt.grid(which='major',linestyle=':',linewidth='0.3',color='grey')\n",
    "plt.grid(which='minor',linestyle=':',linewidth='0.3',color='grey')\n",
    "plt.legend()\n",
    "plt.fill_between(Drawdown.index,Drawdown, color = 'red')\n",
    "plt.show()\n",
    "print('Max DD:', np.round(Drawdown.min()*100,3),'%')"
   ]
  },
  {
   "cell_type": "markdown",
   "metadata": {},
   "source": [
    "#### Performance Historica"
   ]
  },
  {
   "cell_type": "code",
   "execution_count": 38,
   "metadata": {
    "ExecuteTime": {
     "end_time": "2020-09-07T21:59:49.336480Z",
     "start_time": "2020-09-07T21:59:49.280664Z"
    },
    "code_folding": [
     1,
     4,
     9
    ]
   },
   "outputs": [
    {
     "data": {
      "text/html": [
       "<div>\n",
       "<style scoped>\n",
       "    .dataframe tbody tr th:only-of-type {\n",
       "        vertical-align: middle;\n",
       "    }\n",
       "\n",
       "    .dataframe tbody tr th {\n",
       "        vertical-align: top;\n",
       "    }\n",
       "\n",
       "    .dataframe thead th {\n",
       "        text-align: right;\n",
       "    }\n",
       "</style>\n",
       "<table border=\"1\" class=\"dataframe\">\n",
       "  <thead>\n",
       "    <tr style=\"text-align: right;\">\n",
       "      <th></th>\n",
       "      <th>Ene</th>\n",
       "      <th>Feb</th>\n",
       "      <th>Mar</th>\n",
       "      <th>Abr</th>\n",
       "      <th>May</th>\n",
       "      <th>Jun</th>\n",
       "      <th>Jul</th>\n",
       "      <th>Ago</th>\n",
       "      <th>Sep</th>\n",
       "      <th>Oct</th>\n",
       "      <th>Nov</th>\n",
       "      <th>Dic</th>\n",
       "      <th>Estrategia YTD</th>\n",
       "      <th>Benckmark YTD</th>\n",
       "    </tr>\n",
       "    <tr>\n",
       "      <th>Date</th>\n",
       "      <th></th>\n",
       "      <th></th>\n",
       "      <th></th>\n",
       "      <th></th>\n",
       "      <th></th>\n",
       "      <th></th>\n",
       "      <th></th>\n",
       "      <th></th>\n",
       "      <th></th>\n",
       "      <th></th>\n",
       "      <th></th>\n",
       "      <th></th>\n",
       "      <th></th>\n",
       "      <th></th>\n",
       "    </tr>\n",
       "  </thead>\n",
       "  <tbody>\n",
       "    <tr>\n",
       "      <th>2005</th>\n",
       "      <td>3.62</td>\n",
       "      <td>0.30</td>\n",
       "      <td>4.38</td>\n",
       "      <td>0.89</td>\n",
       "      <td>1.49</td>\n",
       "      <td>-0.80</td>\n",
       "      <td>0.09</td>\n",
       "      <td>-0.36</td>\n",
       "      <td>-0.41</td>\n",
       "      <td>1.79</td>\n",
       "      <td>-0.80</td>\n",
       "      <td>2.18</td>\n",
       "      <td>9.0</td>\n",
       "      <td>9.0</td>\n",
       "    </tr>\n",
       "    <tr>\n",
       "      <th>2006</th>\n",
       "      <td>1.62</td>\n",
       "      <td>-0.30</td>\n",
       "      <td>1.94</td>\n",
       "      <td>-0.42</td>\n",
       "      <td>-1.43</td>\n",
       "      <td>0.22</td>\n",
       "      <td>0.44</td>\n",
       "      <td>2.20</td>\n",
       "      <td>5.74</td>\n",
       "      <td>2.84</td>\n",
       "      <td>3.34</td>\n",
       "      <td>2.47</td>\n",
       "      <td>18.0</td>\n",
       "      <td>13.0</td>\n",
       "    </tr>\n",
       "    <tr>\n",
       "      <th>2007</th>\n",
       "      <td>1.76</td>\n",
       "      <td>0.08</td>\n",
       "      <td>-0.38</td>\n",
       "      <td>-2.37</td>\n",
       "      <td>4.83</td>\n",
       "      <td>3.10</td>\n",
       "      <td>-1.29</td>\n",
       "      <td>1.43</td>\n",
       "      <td>-1.59</td>\n",
       "      <td>4.02</td>\n",
       "      <td>5.35</td>\n",
       "      <td>-1.55</td>\n",
       "      <td>12.0</td>\n",
       "      <td>6.0</td>\n",
       "    </tr>\n",
       "    <tr>\n",
       "      <th>2008</th>\n",
       "      <td>4.46</td>\n",
       "      <td>-8.36</td>\n",
       "      <td>-2.26</td>\n",
       "      <td>-2.24</td>\n",
       "      <td>2.53</td>\n",
       "      <td>0.44</td>\n",
       "      <td>-1.61</td>\n",
       "      <td>-3.76</td>\n",
       "      <td>-1.18</td>\n",
       "      <td>-0.55</td>\n",
       "      <td>-16.54</td>\n",
       "      <td>-3.58</td>\n",
       "      <td>-32.0</td>\n",
       "      <td>-35.0</td>\n",
       "    </tr>\n",
       "    <tr>\n",
       "      <th>2009</th>\n",
       "      <td>-1.60</td>\n",
       "      <td>-1.65</td>\n",
       "      <td>-7.12</td>\n",
       "      <td>-6.91</td>\n",
       "      <td>9.89</td>\n",
       "      <td>5.34</td>\n",
       "      <td>1.86</td>\n",
       "      <td>1.65</td>\n",
       "      <td>3.25</td>\n",
       "      <td>3.08</td>\n",
       "      <td>3.09</td>\n",
       "      <td>3.72</td>\n",
       "      <td>16.0</td>\n",
       "      <td>31.0</td>\n",
       "    </tr>\n",
       "    <tr>\n",
       "      <th>2010</th>\n",
       "      <td>3.43</td>\n",
       "      <td>-1.02</td>\n",
       "      <td>-3.69</td>\n",
       "      <td>7.76</td>\n",
       "      <td>-0.24</td>\n",
       "      <td>-3.65</td>\n",
       "      <td>-1.17</td>\n",
       "      <td>0.47</td>\n",
       "      <td>1.43</td>\n",
       "      <td>4.16</td>\n",
       "      <td>2.60</td>\n",
       "      <td>2.44</td>\n",
       "      <td>9.0</td>\n",
       "      <td>12.0</td>\n",
       "    </tr>\n",
       "    <tr>\n",
       "      <th>2011</th>\n",
       "      <td>2.31</td>\n",
       "      <td>1.79</td>\n",
       "      <td>1.72</td>\n",
       "      <td>1.21</td>\n",
       "      <td>4.07</td>\n",
       "      <td>1.89</td>\n",
       "      <td>-3.10</td>\n",
       "      <td>1.48</td>\n",
       "      <td>-7.83</td>\n",
       "      <td>5.13</td>\n",
       "      <td>1.62</td>\n",
       "      <td>-2.77</td>\n",
       "      <td>5.0</td>\n",
       "      <td>-1.0</td>\n",
       "    </tr>\n",
       "    <tr>\n",
       "      <th>2012</th>\n",
       "      <td>3.55</td>\n",
       "      <td>2.35</td>\n",
       "      <td>0.68</td>\n",
       "      <td>3.29</td>\n",
       "      <td>1.20</td>\n",
       "      <td>-0.00</td>\n",
       "      <td>1.18</td>\n",
       "      <td>5.04</td>\n",
       "      <td>2.56</td>\n",
       "      <td>1.07</td>\n",
       "      <td>0.89</td>\n",
       "      <td>-1.83</td>\n",
       "      <td>18.0</td>\n",
       "      <td>12.0</td>\n",
       "    </tr>\n",
       "    <tr>\n",
       "      <th>2013</th>\n",
       "      <td>0.84</td>\n",
       "      <td>3.60</td>\n",
       "      <td>3.75</td>\n",
       "      <td>4.43</td>\n",
       "      <td>4.48</td>\n",
       "      <td>2.45</td>\n",
       "      <td>-1.17</td>\n",
       "      <td>4.24</td>\n",
       "      <td>-0.15</td>\n",
       "      <td>-1.30</td>\n",
       "      <td>2.67</td>\n",
       "      <td>5.79</td>\n",
       "      <td>33.0</td>\n",
       "      <td>24.0</td>\n",
       "    </tr>\n",
       "    <tr>\n",
       "      <th>2014</th>\n",
       "      <td>0.52</td>\n",
       "      <td>-0.24</td>\n",
       "      <td>-0.75</td>\n",
       "      <td>5.10</td>\n",
       "      <td>2.75</td>\n",
       "      <td>1.42</td>\n",
       "      <td>2.53</td>\n",
       "      <td>2.33</td>\n",
       "      <td>1.74</td>\n",
       "      <td>2.59</td>\n",
       "      <td>-3.13</td>\n",
       "      <td>4.93</td>\n",
       "      <td>21.0</td>\n",
       "      <td>15.0</td>\n",
       "    </tr>\n",
       "    <tr>\n",
       "      <th>2015</th>\n",
       "      <td>1.45</td>\n",
       "      <td>-0.43</td>\n",
       "      <td>0.67</td>\n",
       "      <td>-0.81</td>\n",
       "      <td>0.44</td>\n",
       "      <td>0.44</td>\n",
       "      <td>-0.68</td>\n",
       "      <td>1.32</td>\n",
       "      <td>-0.34</td>\n",
       "      <td>-3.87</td>\n",
       "      <td>4.88</td>\n",
       "      <td>1.28</td>\n",
       "      <td>3.0</td>\n",
       "      <td>3.0</td>\n",
       "    </tr>\n",
       "    <tr>\n",
       "      <th>2016</th>\n",
       "      <td>0.95</td>\n",
       "      <td>-3.35</td>\n",
       "      <td>1.56</td>\n",
       "      <td>4.41</td>\n",
       "      <td>2.27</td>\n",
       "      <td>3.86</td>\n",
       "      <td>2.07</td>\n",
       "      <td>5.06</td>\n",
       "      <td>-1.41</td>\n",
       "      <td>-1.33</td>\n",
       "      <td>-0.92</td>\n",
       "      <td>-2.43</td>\n",
       "      <td>10.0</td>\n",
       "      <td>19.0</td>\n",
       "    </tr>\n",
       "    <tr>\n",
       "      <th>2017</th>\n",
       "      <td>2.25</td>\n",
       "      <td>0.10</td>\n",
       "      <td>1.50</td>\n",
       "      <td>0.84</td>\n",
       "      <td>-2.40</td>\n",
       "      <td>1.79</td>\n",
       "      <td>1.33</td>\n",
       "      <td>0.20</td>\n",
       "      <td>1.72</td>\n",
       "      <td>0.28</td>\n",
       "      <td>1.78</td>\n",
       "      <td>1.75</td>\n",
       "      <td>9.0</td>\n",
       "      <td>19.0</td>\n",
       "    </tr>\n",
       "    <tr>\n",
       "      <th>2018</th>\n",
       "      <td>2.64</td>\n",
       "      <td>4.80</td>\n",
       "      <td>-5.59</td>\n",
       "      <td>-0.61</td>\n",
       "      <td>-0.45</td>\n",
       "      <td>0.92</td>\n",
       "      <td>1.52</td>\n",
       "      <td>2.84</td>\n",
       "      <td>3.95</td>\n",
       "      <td>2.57</td>\n",
       "      <td>0.48</td>\n",
       "      <td>0.60</td>\n",
       "      <td>11.0</td>\n",
       "      <td>-6.0</td>\n",
       "    </tr>\n",
       "    <tr>\n",
       "      <th>2019</th>\n",
       "      <td>-3.04</td>\n",
       "      <td>-1.18</td>\n",
       "      <td>1.04</td>\n",
       "      <td>0.94</td>\n",
       "      <td>0.44</td>\n",
       "      <td>2.00</td>\n",
       "      <td>2.38</td>\n",
       "      <td>0.78</td>\n",
       "      <td>-3.89</td>\n",
       "      <td>4.13</td>\n",
       "      <td>0.53</td>\n",
       "      <td>1.71</td>\n",
       "      <td>9.0</td>\n",
       "      <td>24.0</td>\n",
       "    </tr>\n",
       "    <tr>\n",
       "      <th>2020</th>\n",
       "      <td>2.01</td>\n",
       "      <td>2.00</td>\n",
       "      <td>1.23</td>\n",
       "      <td>-12.95</td>\n",
       "      <td>5.70</td>\n",
       "      <td>0.25</td>\n",
       "      <td>1.31</td>\n",
       "      <td>2.44</td>\n",
       "      <td>NaN</td>\n",
       "      <td>NaN</td>\n",
       "      <td>NaN</td>\n",
       "      <td>NaN</td>\n",
       "      <td>-1.0</td>\n",
       "      <td>8.0</td>\n",
       "    </tr>\n",
       "  </tbody>\n",
       "</table>\n",
       "</div>"
      ],
      "text/plain": [
       "       Ene   Feb   Mar    Abr   May   Jun   Jul   Ago   Sep   Oct    Nov  \\\n",
       "Date                                                                       \n",
       "2005  3.62  0.30  4.38   0.89  1.49 -0.80  0.09 -0.36 -0.41  1.79  -0.80   \n",
       "2006  1.62 -0.30  1.94  -0.42 -1.43  0.22  0.44  2.20  5.74  2.84   3.34   \n",
       "2007  1.76  0.08 -0.38  -2.37  4.83  3.10 -1.29  1.43 -1.59  4.02   5.35   \n",
       "2008  4.46 -8.36 -2.26  -2.24  2.53  0.44 -1.61 -3.76 -1.18 -0.55 -16.54   \n",
       "2009 -1.60 -1.65 -7.12  -6.91  9.89  5.34  1.86  1.65  3.25  3.08   3.09   \n",
       "2010  3.43 -1.02 -3.69   7.76 -0.24 -3.65 -1.17  0.47  1.43  4.16   2.60   \n",
       "2011  2.31  1.79  1.72   1.21  4.07  1.89 -3.10  1.48 -7.83  5.13   1.62   \n",
       "2012  3.55  2.35  0.68   3.29  1.20 -0.00  1.18  5.04  2.56  1.07   0.89   \n",
       "2013  0.84  3.60  3.75   4.43  4.48  2.45 -1.17  4.24 -0.15 -1.30   2.67   \n",
       "2014  0.52 -0.24 -0.75   5.10  2.75  1.42  2.53  2.33  1.74  2.59  -3.13   \n",
       "2015  1.45 -0.43  0.67  -0.81  0.44  0.44 -0.68  1.32 -0.34 -3.87   4.88   \n",
       "2016  0.95 -3.35  1.56   4.41  2.27  3.86  2.07  5.06 -1.41 -1.33  -0.92   \n",
       "2017  2.25  0.10  1.50   0.84 -2.40  1.79  1.33  0.20  1.72  0.28   1.78   \n",
       "2018  2.64  4.80 -5.59  -0.61 -0.45  0.92  1.52  2.84  3.95  2.57   0.48   \n",
       "2019 -3.04 -1.18  1.04   0.94  0.44  2.00  2.38  0.78 -3.89  4.13   0.53   \n",
       "2020  2.01  2.00  1.23 -12.95  5.70  0.25  1.31  2.44   NaN   NaN    NaN   \n",
       "\n",
       "       Dic  Estrategia YTD  Benckmark YTD  \n",
       "Date                                       \n",
       "2005  2.18             9.0            9.0  \n",
       "2006  2.47            18.0           13.0  \n",
       "2007 -1.55            12.0            6.0  \n",
       "2008 -3.58           -32.0          -35.0  \n",
       "2009  3.72            16.0           31.0  \n",
       "2010  2.44             9.0           12.0  \n",
       "2011 -2.77             5.0           -1.0  \n",
       "2012 -1.83            18.0           12.0  \n",
       "2013  5.79            33.0           24.0  \n",
       "2014  4.93            21.0           15.0  \n",
       "2015  1.28             3.0            3.0  \n",
       "2016 -2.43            10.0           19.0  \n",
       "2017  1.75             9.0           19.0  \n",
       "2018  0.60            11.0           -6.0  \n",
       "2019  1.71             9.0           24.0  \n",
       "2020   NaN            -1.0            8.0  "
      ]
     },
     "execution_count": 38,
     "metadata": {},
     "output_type": "execute_result"
    }
   ],
   "source": [
    "year = ['2005','2006','2007','2008','2009','2010',\n",
    "        '2011','2012','2013','2014','2015','2016',\n",
    "        '2017', '2018','2019','2020']\n",
    "month = ['Ene','Feb','Mar','Abr','May','Jun',\n",
    "         'Jul','Ago','Sep','Oct','Nov','Dic']\n",
    "idx = pasive.iloc[6:].index\n",
    "mat_ret = []\n",
    "\n",
    "for y in year:\n",
    "    ret = results.PortR[y]\n",
    "    ret = np.round(ret.groupby(ret.index.month).mean()*100,2)\n",
    "    mat_ret.append(ret)\n",
    "\n",
    "mat_ret = pd.DataFrame(mat_ret)\n",
    "mat_ret = pd.DataFrame(mat_ret.values,index=idx,columns=month)\n",
    "mat_ret['Estrategia YTD'] = np.round(active.iloc[4:].values)\n",
    "mat_ret['Benckmark YTD'] = np.round(pasive.iloc[6:].values)\n",
    "\n",
    "mat_ret"
   ]
  },
  {
   "cell_type": "markdown",
   "metadata": {
    "ExecuteTime": {
     "end_time": "2020-09-02T20:47:02.079296Z",
     "start_time": "2020-09-02T20:47:01.883046Z"
    }
   },
   "source": [
    "#### Histograma\n",
    "- Histograma de Retornos\n",
    "- Kernel Density Estimation (KDE) para estimar la función de densidad de probabilidad"
   ]
  },
  {
   "cell_type": "code",
   "execution_count": 39,
   "metadata": {
    "ExecuteTime": {
     "end_time": "2020-09-07T21:59:49.628146Z",
     "start_time": "2020-09-07T21:59:49.338212Z"
    }
   },
   "outputs": [
    {
     "data": {
      "text/plain": [
       "Text(0.5, 0.98, 'Histograma de Retornos Mensuales')"
      ]
     },
     "execution_count": 39,
     "metadata": {},
     "output_type": "execute_result"
    },
    {
     "data": {
      "image/png": "[encoded data removed]",
      "text/plain": [
       "<Figure size 720x360 with 1 Axes>"
      ]
     },
     "metadata": {
      "needs_background": "light"
     },
     "output_type": "display_data"
    }
   ],
   "source": [
    "fig, ax = plt.subplots(figsize=(10,5))\n",
    "counts, bins, bars = plt.hist(results.PortR, bins=100, range=(-0.2,0.2),\n",
    "                              color='snow', edgecolor='k', label='PortR')\n",
    "sns.distplot(results.PortR,hist=False,kde=True,\n",
    "             kde_kws={'shade': True, 'linewidth': 3}, label='PortR KDE')\n",
    "sns.distplot(results.Benchmark,hist=False,kde=True,\n",
    "            kde_kws={'shade': True, 'linewidth': 3}, label='Benchmark KDE')\n",
    "plt.legend()\n",
    "plt.suptitle(\"Histograma de Retornos Mensuales\")"
   ]
  },
  {
   "cell_type": "markdown",
   "metadata": {},
   "source": [
    "### Referencias\n",
    "- Eugene Fama y Kenneth French.(7 de septiembre de 2020). Current Research Returns. Recuperado el 07-09-2020 de http://mba.tuck.dartmouth.edu/pages/faculty/ken.french/Data_Library/f-f_5emerging.html\n",
    "- Petter N. Kolm, Reha Tütüncü, Frank J. Fabozzi (2013). 60 Years of portfolio optimization: Practical challenges and current trends."
   ]
  },
  {
   "cell_type": "code",
   "execution_count": null,
   "metadata": {},
   "outputs": [],
   "source": []
  },
  {
   "cell_type": "code",
   "execution_count": null,
   "metadata": {},
   "outputs": [],
   "source": []
  }
 ],
 "metadata": {
  "kernelspec": {
   "display_name": "Python 3",
   "language": "python",
   "name": "python3"
  },
  "language_info": {
   "codemirror_mode": {
    "name": "ipython",
    "version": 3
   },
   "file_extension": ".py",
   "mimetype": "text/x-python",
   "name": "python",
   "nbconvert_exporter": "python",
   "pygments_lexer": "ipython3",
   "version": "3.8.3"
  },
  "latex_envs": {
   "LaTeX_envs_menu_present": true,
   "autoclose": false,
   "autocomplete": true,
   "bibliofile": "biblio.bib",
   "cite_by": "apalike",
   "current_citInitial": 1,
   "eqLabelWithNumbers": true,
   "eqNumInitial": 1,
   "hotkeys": {
    "equation": "Ctrl-E",
    "itemize": "Ctrl-I"
   },
   "labels_anchors": false,
   "latex_user_defs": false,
   "report_style_numbering": false,
   "user_envs_cfg": false
  },
  "toc": {
   "base_numbering": 1,
   "nav_menu": {},
   "number_sections": true,
   "sideBar": true,
   "skip_h1_title": false,
   "title_cell": "Table of Contents",
   "title_sidebar": "Contents",
   "toc_cell": false,
   "toc_position": {
    "height": "calc(100% - 180px)",
    "left": "10px",
    "top": "150px",
    "width": "261.818px"
   },
   "toc_section_display": true,
   "toc_window_display": true
  },
  "varInspector": {
   "cols": {
    "lenName": 16,
    "lenType": 16,
    "lenVar": 40
   },
   "kernels_config": {
    "python": {
     "delete_cmd_postfix": "",
     "delete_cmd_prefix": "del ",
     "library": "var_list.py",
     "varRefreshCmd": "print(var_dic_list())"
    },
    "r": {
     "delete_cmd_postfix": ") ",
     "delete_cmd_prefix": "rm(",
     "library": "var_list.r",
     "varRefreshCmd": "cat(var_dic_list()) "
    }
   },
   "types_to_exclude": [
    "module",
    "function",
    "builtin_function_or_method",
    "instance",
    "_Feature"
   ],
   "window_display": false
  }
 },
 "nbformat": 4,
 "nbformat_minor": 4
}
